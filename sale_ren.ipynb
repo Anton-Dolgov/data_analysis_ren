{
 "cells": [
  {
   "cell_type": "markdown",
   "id": "ee125f50",
   "metadata": {},
   "source": [
    "Добрый день. Приступик к проекту с того, что загрузим актуальные библиотеки и прочитаем актуальную базу данных"
   ]
  },
  {
   "cell_type": "code",
   "execution_count": 1,
   "id": "6c1e4226",
   "metadata": {},
   "outputs": [],
   "source": [
    "import pandas as pd\n",
    "import matplotlib.pyplot as plt\n",
    "import seaborn as sns\n",
    "import matplotlib.ticker as ticker\n",
    "import numpy as np\n",
    "#from scipy import stats as st\n",
    "from datetime import datetime, timedelta\n",
    "from scipy.stats import f_oneway\n",
    "#from scipy.stats import ttest_ind"
   ]
  },
  {
   "cell_type": "code",
   "execution_count": 2,
   "id": "58ca4ada",
   "metadata": {},
   "outputs": [],
   "source": [
    "sale = pd.read_excel('sale_ren.xlsx')"
   ]
  },
  {
   "cell_type": "markdown",
   "id": "da44ad78",
   "metadata": {},
   "source": [
    "Проведу анализ предоставленных данных"
   ]
  },
  {
   "cell_type": "code",
   "execution_count": 3,
   "id": "065f50ea",
   "metadata": {},
   "outputs": [
    {
     "data": {
      "text/html": [
       "<div>\n",
       "<style scoped>\n",
       "    .dataframe tbody tr th:only-of-type {\n",
       "        vertical-align: middle;\n",
       "    }\n",
       "\n",
       "    .dataframe tbody tr th {\n",
       "        vertical-align: top;\n",
       "    }\n",
       "\n",
       "    .dataframe thead th {\n",
       "        text-align: right;\n",
       "    }\n",
       "</style>\n",
       "<table border=\"1\" class=\"dataframe\">\n",
       "  <thead>\n",
       "    <tr style=\"text-align: right;\">\n",
       "      <th></th>\n",
       "      <th></th>\n",
       "      <th>Месяц начисления</th>\n",
       "      <th>Тип премии</th>\n",
       "      <th>Тип бизнеса</th>\n",
       "      <th>Канал продаж</th>\n",
       "      <th>Продукт</th>\n",
       "      <th>Агент</th>\n",
       "      <th>Срок полиса</th>\n",
       "      <th>Дата начала действия полиса</th>\n",
       "      <th>Премия по полису</th>\n",
       "      <th>Статус договора</th>\n",
       "    </tr>\n",
       "  </thead>\n",
       "  <tbody>\n",
       "    <tr>\n",
       "      <th>0</th>\n",
       "      <td>1</td>\n",
       "      <td>2022-01-01</td>\n",
       "      <td>Единовременная</td>\n",
       "      <td>Новый бизнес</td>\n",
       "      <td>Агентская сеть</td>\n",
       "      <td>Кредитное страхование</td>\n",
       "      <td>Собственные агенты</td>\n",
       "      <td>до 3 лет</td>\n",
       "      <td>2022.01</td>\n",
       "      <td>1929842.75</td>\n",
       "      <td>Действует</td>\n",
       "    </tr>\n",
       "    <tr>\n",
       "      <th>1</th>\n",
       "      <td>2</td>\n",
       "      <td>2022-01-01</td>\n",
       "      <td>Единовременная</td>\n",
       "      <td>Новый бизнес</td>\n",
       "      <td>Брокерский</td>\n",
       "      <td>Кредитное страхование</td>\n",
       "      <td>Партнер 3</td>\n",
       "      <td>до 3 лет</td>\n",
       "      <td>2022.02</td>\n",
       "      <td>612509.00</td>\n",
       "      <td>Действует</td>\n",
       "    </tr>\n",
       "    <tr>\n",
       "      <th>2</th>\n",
       "      <td>3</td>\n",
       "      <td>2022-01-01</td>\n",
       "      <td>Единовременная</td>\n",
       "      <td>Новый бизнес</td>\n",
       "      <td>Агентская сеть</td>\n",
       "      <td>Кредитное страхование</td>\n",
       "      <td>Собственные агенты</td>\n",
       "      <td>5 лет</td>\n",
       "      <td>2022.02</td>\n",
       "      <td>14042288.00</td>\n",
       "      <td>Действует</td>\n",
       "    </tr>\n",
       "    <tr>\n",
       "      <th>3</th>\n",
       "      <td>4</td>\n",
       "      <td>2022-01-01</td>\n",
       "      <td>Единовременная</td>\n",
       "      <td>Новый бизнес</td>\n",
       "      <td>Брокерский</td>\n",
       "      <td>Кредитное страхование</td>\n",
       "      <td>Партнер 3</td>\n",
       "      <td>от 3 до 5 лет</td>\n",
       "      <td>2021.05</td>\n",
       "      <td>-24584.14</td>\n",
       "      <td>Расторгнут</td>\n",
       "    </tr>\n",
       "    <tr>\n",
       "      <th>4</th>\n",
       "      <td>5</td>\n",
       "      <td>2022-01-01</td>\n",
       "      <td>Премия первого года</td>\n",
       "      <td>Новый бизнес</td>\n",
       "      <td>Банковский</td>\n",
       "      <td>ДМС</td>\n",
       "      <td>Партнер 1</td>\n",
       "      <td>до 3 лет</td>\n",
       "      <td>2022.02</td>\n",
       "      <td>580140.40</td>\n",
       "      <td>Действует</td>\n",
       "    </tr>\n",
       "    <tr>\n",
       "      <th>5</th>\n",
       "      <td>6</td>\n",
       "      <td>2022-01-01</td>\n",
       "      <td>Премия первого года</td>\n",
       "      <td>Новый бизнес</td>\n",
       "      <td>Банковский</td>\n",
       "      <td>Накопительное страхование</td>\n",
       "      <td>Партнер 1</td>\n",
       "      <td>5 лет</td>\n",
       "      <td>2022.03</td>\n",
       "      <td>2125947.86</td>\n",
       "      <td>Действует</td>\n",
       "    </tr>\n",
       "    <tr>\n",
       "      <th>6</th>\n",
       "      <td>7</td>\n",
       "      <td>2022-01-01</td>\n",
       "      <td>Премия первого года</td>\n",
       "      <td>Новый бизнес</td>\n",
       "      <td>Банковский</td>\n",
       "      <td>ДМС</td>\n",
       "      <td>Партнер 1</td>\n",
       "      <td>до 3 лет</td>\n",
       "      <td>2022.02</td>\n",
       "      <td>449268.20</td>\n",
       "      <td>Действует</td>\n",
       "    </tr>\n",
       "    <tr>\n",
       "      <th>7</th>\n",
       "      <td>8</td>\n",
       "      <td>2022-01-01</td>\n",
       "      <td>Единовременная</td>\n",
       "      <td>Новый бизнес</td>\n",
       "      <td>Банковский</td>\n",
       "      <td>Кредитное страхование</td>\n",
       "      <td>Партнер 1</td>\n",
       "      <td>от 5 до 10 лет</td>\n",
       "      <td>2022.03</td>\n",
       "      <td>841479.89</td>\n",
       "      <td>Действует</td>\n",
       "    </tr>\n",
       "    <tr>\n",
       "      <th>8</th>\n",
       "      <td>9</td>\n",
       "      <td>2022-01-01</td>\n",
       "      <td>Премия первого года</td>\n",
       "      <td>Новый бизнес</td>\n",
       "      <td>Банковский</td>\n",
       "      <td>Накопительное страхование</td>\n",
       "      <td>Партнер 1</td>\n",
       "      <td>от 5 до 10 лет</td>\n",
       "      <td>2022.02</td>\n",
       "      <td>4720.28</td>\n",
       "      <td>Действует</td>\n",
       "    </tr>\n",
       "    <tr>\n",
       "      <th>9</th>\n",
       "      <td>10</td>\n",
       "      <td>2022-01-01</td>\n",
       "      <td>Премия первого года</td>\n",
       "      <td>Новый бизнес</td>\n",
       "      <td>Банковский</td>\n",
       "      <td>Накопительное страхование</td>\n",
       "      <td>Партнер 1</td>\n",
       "      <td>от 5 до 10 лет</td>\n",
       "      <td>2022.02</td>\n",
       "      <td>2579.45</td>\n",
       "      <td>Действует</td>\n",
       "    </tr>\n",
       "  </tbody>\n",
       "</table>\n",
       "</div>"
      ],
      "text/plain": [
       "       Месяц начисления           Тип премии   Тип бизнеса    Канал продаж  \\\n",
       "0    1       2022-01-01       Единовременная  Новый бизнес  Агентская сеть   \n",
       "1    2       2022-01-01       Единовременная  Новый бизнес      Брокерский   \n",
       "2    3       2022-01-01       Единовременная  Новый бизнес  Агентская сеть   \n",
       "3    4       2022-01-01       Единовременная  Новый бизнес      Брокерский   \n",
       "4    5       2022-01-01  Премия первого года  Новый бизнес      Банковский   \n",
       "5    6       2022-01-01  Премия первого года  Новый бизнес      Банковский   \n",
       "6    7       2022-01-01  Премия первого года  Новый бизнес      Банковский   \n",
       "7    8       2022-01-01       Единовременная  Новый бизнес      Банковский   \n",
       "8    9       2022-01-01  Премия первого года  Новый бизнес      Банковский   \n",
       "9   10       2022-01-01  Премия первого года  Новый бизнес      Банковский   \n",
       "\n",
       "                     Продукт               Агент     Срок полиса  \\\n",
       "0      Кредитное страхование  Собственные агенты        до 3 лет   \n",
       "1      Кредитное страхование           Партнер 3        до 3 лет   \n",
       "2      Кредитное страхование  Собственные агенты           5 лет   \n",
       "3      Кредитное страхование           Партнер 3   от 3 до 5 лет   \n",
       "4                        ДМС           Партнер 1        до 3 лет   \n",
       "5  Накопительное страхование           Партнер 1           5 лет   \n",
       "6                        ДМС           Партнер 1        до 3 лет   \n",
       "7      Кредитное страхование           Партнер 1  от 5 до 10 лет   \n",
       "8  Накопительное страхование           Партнер 1  от 5 до 10 лет   \n",
       "9  Накопительное страхование           Партнер 1  от 5 до 10 лет   \n",
       "\n",
       "   Дата начала действия полиса  Премия по полису Статус договора  \n",
       "0                      2022.01        1929842.75       Действует  \n",
       "1                      2022.02         612509.00       Действует  \n",
       "2                      2022.02       14042288.00       Действует  \n",
       "3                      2021.05         -24584.14      Расторгнут  \n",
       "4                      2022.02         580140.40       Действует  \n",
       "5                      2022.03        2125947.86       Действует  \n",
       "6                      2022.02         449268.20       Действует  \n",
       "7                      2022.03         841479.89       Действует  \n",
       "8                      2022.02           4720.28       Действует  \n",
       "9                      2022.02           2579.45       Действует  "
      ]
     },
     "execution_count": 3,
     "metadata": {},
     "output_type": "execute_result"
    }
   ],
   "source": [
    "sale.head(10)"
   ]
  },
  {
   "cell_type": "markdown",
   "id": "912ee7bb",
   "metadata": {},
   "source": [
    "Проверю качество предоставленных данных. Проверю дубликаты и пропуски"
   ]
  },
  {
   "cell_type": "code",
   "execution_count": 4,
   "id": "61f1d4bb",
   "metadata": {},
   "outputs": [
    {
     "name": "stdout",
     "output_type": "stream",
     "text": [
      "<class 'pandas.core.frame.DataFrame'>\n",
      "RangeIndex: 20675 entries, 0 to 20674\n",
      "Data columns (total 11 columns):\n",
      " #   Column                       Non-Null Count  Dtype         \n",
      "---  ------                       --------------  -----         \n",
      " 0                                20675 non-null  int64         \n",
      " 1   Месяц начисления             20675 non-null  datetime64[ns]\n",
      " 2   Тип премии                   20675 non-null  object        \n",
      " 3   Тип бизнеса                  20675 non-null  object        \n",
      " 4   Канал продаж                 20675 non-null  object        \n",
      " 5   Продукт                      20586 non-null  object        \n",
      " 6   Агент                        20675 non-null  object        \n",
      " 7   Срок полиса                  20675 non-null  object        \n",
      " 8   Дата начала действия полиса  20675 non-null  float64       \n",
      " 9   Премия по полису             20675 non-null  float64       \n",
      " 10  Статус договора              20675 non-null  object        \n",
      "dtypes: datetime64[ns](1), float64(2), int64(1), object(7)\n",
      "memory usage: 1.7+ MB\n"
     ]
    }
   ],
   "source": [
    "sale.info()"
   ]
  },
  {
   "cell_type": "code",
   "execution_count": 5,
   "id": "417e0a5a",
   "metadata": {},
   "outputs": [
    {
     "data": {
      "text/plain": [
       "                                0\n",
       "Месяц начисления                0\n",
       "Тип премии                      0\n",
       "Тип бизнеса                     0\n",
       "Канал продаж                    0\n",
       "Продукт                        89\n",
       "Агент                           0\n",
       "Срок полиса                     0\n",
       "Дата начала действия полиса     0\n",
       "Премия по полису                0\n",
       "Статус договора                 0\n",
       "dtype: int64"
      ]
     },
     "execution_count": 5,
     "metadata": {},
     "output_type": "execute_result"
    }
   ],
   "source": [
    "sale.isna().sum()"
   ]
  },
  {
   "cell_type": "markdown",
   "id": "5c27014f",
   "metadata": {},
   "source": [
    "Вижу, что в столбе \"Продукты\" есть 89 пропусков"
   ]
  },
  {
   "cell_type": "code",
   "execution_count": 6,
   "id": "42656bef",
   "metadata": {},
   "outputs": [
    {
     "data": {
      "text/plain": [
       "'0.4%'"
      ]
     },
     "execution_count": 6,
     "metadata": {},
     "output_type": "execute_result"
    }
   ],
   "source": [
    "'{:.1%}'.format((sale[sale['Продукт'].isna()].shape[0]/sale['Продукт'].shape[0]))"
   ]
  },
  {
   "cell_type": "markdown",
   "id": "b46d3eb5",
   "metadata": {},
   "source": [
    "Пропуски в \"Продуктах\" составляют 0,4% от общего колличества представленных строк. Предлагаю их удалить."
   ]
  },
  {
   "cell_type": "code",
   "execution_count": 7,
   "id": "8b7242d4",
   "metadata": {},
   "outputs": [],
   "source": [
    "sale = sale.dropna(subset=['Продукт']).reset_index(drop=True)"
   ]
  },
  {
   "cell_type": "code",
   "execution_count": 8,
   "id": "51d1e6ae",
   "metadata": {},
   "outputs": [
    {
     "data": {
      "text/html": [
       "<div>\n",
       "<style scoped>\n",
       "    .dataframe tbody tr th:only-of-type {\n",
       "        vertical-align: middle;\n",
       "    }\n",
       "\n",
       "    .dataframe tbody tr th {\n",
       "        vertical-align: top;\n",
       "    }\n",
       "\n",
       "    .dataframe thead th {\n",
       "        text-align: right;\n",
       "    }\n",
       "</style>\n",
       "<table border=\"1\" class=\"dataframe\">\n",
       "  <thead>\n",
       "    <tr style=\"text-align: right;\">\n",
       "      <th></th>\n",
       "      <th></th>\n",
       "      <th>Месяц начисления</th>\n",
       "      <th>Тип премии</th>\n",
       "      <th>Тип бизнеса</th>\n",
       "      <th>Канал продаж</th>\n",
       "      <th>Продукт</th>\n",
       "      <th>Агент</th>\n",
       "      <th>Срок полиса</th>\n",
       "      <th>Дата начала действия полиса</th>\n",
       "      <th>Премия по полису</th>\n",
       "      <th>Статус договора</th>\n",
       "    </tr>\n",
       "  </thead>\n",
       "  <tbody>\n",
       "  </tbody>\n",
       "</table>\n",
       "</div>"
      ],
      "text/plain": [
       "Empty DataFrame\n",
       "Columns: [   , Месяц начисления, Тип премии, Тип бизнеса, Канал продаж, Продукт, Агент, Срок полиса, Дата начала действия полиса, Премия по полису, Статус договора]\n",
       "Index: []"
      ]
     },
     "metadata": {},
     "output_type": "display_data"
    }
   ],
   "source": [
    "display(sale[sale.duplicated ()])"
   ]
  },
  {
   "cell_type": "markdown",
   "id": "18842a3f",
   "metadata": {},
   "source": [
    "Вижу, что некоторые столбы не соответствуют своему типу, приведу их к правильным типам"
   ]
  },
  {
   "cell_type": "code",
   "execution_count": 9,
   "id": "6d435883",
   "metadata": {},
   "outputs": [],
   "source": [
    " sale['Дата начала действия полиса'] = sale['Дата начала действия полиса'].astype('datetime64[M]')"
   ]
  },
  {
   "cell_type": "markdown",
   "id": "8c0d1848",
   "metadata": {},
   "source": [
    "Привожу даты в стандартный вид"
   ]
  },
  {
   "cell_type": "code",
   "execution_count": 10,
   "id": "7ea606b8",
   "metadata": {},
   "outputs": [],
   "source": [
    "sale['Дата начала действия полиса'] = pd.to_datetime(sale['Дата начала действия полиса'])\n",
    "sale['Месяц начисления'] = pd.to_datetime(sale['Месяц начисления'])"
   ]
  },
  {
   "cell_type": "code",
   "execution_count": 11,
   "id": "23a7f185",
   "metadata": {},
   "outputs": [
    {
     "name": "stdout",
     "output_type": "stream",
     "text": [
      "<class 'pandas.core.frame.DataFrame'>\n",
      "RangeIndex: 20586 entries, 0 to 20585\n",
      "Data columns (total 11 columns):\n",
      " #   Column                       Non-Null Count  Dtype         \n",
      "---  ------                       --------------  -----         \n",
      " 0                                20586 non-null  int64         \n",
      " 1   Месяц начисления             20586 non-null  datetime64[ns]\n",
      " 2   Тип премии                   20586 non-null  object        \n",
      " 3   Тип бизнеса                  20586 non-null  object        \n",
      " 4   Канал продаж                 20586 non-null  object        \n",
      " 5   Продукт                      20586 non-null  object        \n",
      " 6   Агент                        20586 non-null  object        \n",
      " 7   Срок полиса                  20586 non-null  object        \n",
      " 8   Дата начала действия полиса  20586 non-null  datetime64[ns]\n",
      " 9   Премия по полису             20586 non-null  float64       \n",
      " 10  Статус договора              20586 non-null  object        \n",
      "dtypes: datetime64[ns](2), float64(1), int64(1), object(7)\n",
      "memory usage: 1.7+ MB\n"
     ]
    }
   ],
   "source": [
    "sale.info()"
   ]
  },
  {
   "cell_type": "markdown",
   "id": "19f08da2",
   "metadata": {},
   "source": [
    "Вывод по блоку проделанной работы:\n",
    "Проверил полученные данные. Выявили незначительное колличество пропусков в столбе \"Продукты\" и удалили их и скорректировал типы данных для более удобной дальнейшей работы с данными."
   ]
  },
  {
   "cell_type": "markdown",
   "id": "14c6a10f",
   "metadata": {},
   "source": [
    "Перейду к анализу бизнес показателей"
   ]
  },
  {
   "cell_type": "markdown",
   "id": "c7a3411f",
   "metadata": {},
   "source": [
    "Проведу оценку роста суммарной Премии по полису за время "
   ]
  },
  {
   "cell_type": "code",
   "execution_count": 12,
   "id": "f656b9e6",
   "metadata": {},
   "outputs": [
    {
     "data": {
      "text/html": [
       "<div>\n",
       "<style scoped>\n",
       "    .dataframe tbody tr th:only-of-type {\n",
       "        vertical-align: middle;\n",
       "    }\n",
       "\n",
       "    .dataframe tbody tr th {\n",
       "        vertical-align: top;\n",
       "    }\n",
       "\n",
       "    .dataframe thead th {\n",
       "        text-align: right;\n",
       "    }\n",
       "</style>\n",
       "<table border=\"1\" class=\"dataframe\">\n",
       "  <thead>\n",
       "    <tr style=\"text-align: right;\">\n",
       "      <th></th>\n",
       "      <th>Премия по полису</th>\n",
       "    </tr>\n",
       "    <tr>\n",
       "      <th>Месяц начисления</th>\n",
       "      <th></th>\n",
       "    </tr>\n",
       "  </thead>\n",
       "  <tbody>\n",
       "    <tr>\n",
       "      <th>2021-01-01</th>\n",
       "      <td>5298</td>\n",
       "    </tr>\n",
       "    <tr>\n",
       "      <th>2021-02-01</th>\n",
       "      <td>4178</td>\n",
       "    </tr>\n",
       "    <tr>\n",
       "      <th>2021-03-01</th>\n",
       "      <td>977</td>\n",
       "    </tr>\n",
       "    <tr>\n",
       "      <th>2022-01-01</th>\n",
       "      <td>2126</td>\n",
       "    </tr>\n",
       "    <tr>\n",
       "      <th>2022-02-01</th>\n",
       "      <td>3960</td>\n",
       "    </tr>\n",
       "    <tr>\n",
       "      <th>2022-03-01</th>\n",
       "      <td>4047</td>\n",
       "    </tr>\n",
       "  </tbody>\n",
       "</table>\n",
       "</div>"
      ],
      "text/plain": [
       "                  Премия по полису\n",
       "Месяц начисления                  \n",
       "2021-01-01                    5298\n",
       "2021-02-01                    4178\n",
       "2021-03-01                     977\n",
       "2022-01-01                    2126\n",
       "2022-02-01                    3960\n",
       "2022-03-01                    4047"
      ]
     },
     "execution_count": 12,
     "metadata": {},
     "output_type": "execute_result"
    }
   ],
   "source": [
    "sale.groupby('Месяц начисления')[['Премия по полису']].count()"
   ]
  },
  {
   "cell_type": "code",
   "execution_count": 13,
   "id": "4a1150ba",
   "metadata": {},
   "outputs": [
    {
     "data": {
      "text/html": [
       "<div>\n",
       "<style scoped>\n",
       "    .dataframe tbody tr th:only-of-type {\n",
       "        vertical-align: middle;\n",
       "    }\n",
       "\n",
       "    .dataframe tbody tr th {\n",
       "        vertical-align: top;\n",
       "    }\n",
       "\n",
       "    .dataframe thead th {\n",
       "        text-align: right;\n",
       "    }\n",
       "</style>\n",
       "<table border=\"1\" class=\"dataframe\">\n",
       "  <thead>\n",
       "    <tr style=\"text-align: right;\">\n",
       "      <th></th>\n",
       "      <th>Премия по полису</th>\n",
       "    </tr>\n",
       "    <tr>\n",
       "      <th>Месяц начисления</th>\n",
       "      <th></th>\n",
       "    </tr>\n",
       "  </thead>\n",
       "  <tbody>\n",
       "    <tr>\n",
       "      <th>2021-01-01</th>\n",
       "      <td>1.361824e+09</td>\n",
       "    </tr>\n",
       "    <tr>\n",
       "      <th>2021-02-01</th>\n",
       "      <td>1.483933e+09</td>\n",
       "    </tr>\n",
       "    <tr>\n",
       "      <th>2021-03-01</th>\n",
       "      <td>8.529968e+07</td>\n",
       "    </tr>\n",
       "    <tr>\n",
       "      <th>2022-01-01</th>\n",
       "      <td>6.576950e+08</td>\n",
       "    </tr>\n",
       "    <tr>\n",
       "      <th>2022-02-01</th>\n",
       "      <td>8.818251e+08</td>\n",
       "    </tr>\n",
       "    <tr>\n",
       "      <th>2022-03-01</th>\n",
       "      <td>1.172976e+09</td>\n",
       "    </tr>\n",
       "  </tbody>\n",
       "</table>\n",
       "</div>"
      ],
      "text/plain": [
       "                  Премия по полису\n",
       "Месяц начисления                  \n",
       "2021-01-01            1.361824e+09\n",
       "2021-02-01            1.483933e+09\n",
       "2021-03-01            8.529968e+07\n",
       "2022-01-01            6.576950e+08\n",
       "2022-02-01            8.818251e+08\n",
       "2022-03-01            1.172976e+09"
      ]
     },
     "execution_count": 13,
     "metadata": {},
     "output_type": "execute_result"
    }
   ],
   "source": [
    "sale.groupby('Месяц начисления')[['Премия по полису']].sum()"
   ]
  },
  {
   "cell_type": "code",
   "execution_count": 14,
   "id": "a1a6b589",
   "metadata": {},
   "outputs": [
    {
     "data": {
      "text/html": [
       "<div>\n",
       "<style scoped>\n",
       "    .dataframe tbody tr th:only-of-type {\n",
       "        vertical-align: middle;\n",
       "    }\n",
       "\n",
       "    .dataframe tbody tr th {\n",
       "        vertical-align: top;\n",
       "    }\n",
       "\n",
       "    .dataframe thead th {\n",
       "        text-align: right;\n",
       "    }\n",
       "</style>\n",
       "<table border=\"1\" class=\"dataframe\">\n",
       "  <thead>\n",
       "    <tr style=\"text-align: right;\">\n",
       "      <th></th>\n",
       "      <th>Премия по полису</th>\n",
       "    </tr>\n",
       "    <tr>\n",
       "      <th>Месяц начисления</th>\n",
       "      <th></th>\n",
       "    </tr>\n",
       "  </thead>\n",
       "  <tbody>\n",
       "    <tr>\n",
       "      <th>2021-01-01</th>\n",
       "      <td>257044.884388</td>\n",
       "    </tr>\n",
       "    <tr>\n",
       "      <th>2021-02-01</th>\n",
       "      <td>355177.867006</td>\n",
       "    </tr>\n",
       "    <tr>\n",
       "      <th>2021-03-01</th>\n",
       "      <td>87307.761566</td>\n",
       "    </tr>\n",
       "    <tr>\n",
       "      <th>2022-01-01</th>\n",
       "      <td>309357.956924</td>\n",
       "    </tr>\n",
       "    <tr>\n",
       "      <th>2022-02-01</th>\n",
       "      <td>222683.108944</td>\n",
       "    </tr>\n",
       "    <tr>\n",
       "      <th>2022-03-01</th>\n",
       "      <td>289838.293687</td>\n",
       "    </tr>\n",
       "  </tbody>\n",
       "</table>\n",
       "</div>"
      ],
      "text/plain": [
       "                  Премия по полису\n",
       "Месяц начисления                  \n",
       "2021-01-01           257044.884388\n",
       "2021-02-01           355177.867006\n",
       "2021-03-01            87307.761566\n",
       "2022-01-01           309357.956924\n",
       "2022-02-01           222683.108944\n",
       "2022-03-01           289838.293687"
      ]
     },
     "execution_count": 14,
     "metadata": {},
     "output_type": "execute_result"
    }
   ],
   "source": [
    "sale.groupby('Месяц начисления')[['Премия по полису']].mean()"
   ]
  },
  {
   "cell_type": "markdown",
   "id": "7945ad6b",
   "metadata": {},
   "source": [
    "Построю график распределия продаж по полисам в разрезе месяца для наглядности"
   ]
  },
  {
   "cell_type": "code",
   "execution_count": 15,
   "id": "19f60186",
   "metadata": {},
   "outputs": [
    {
     "data": {
      "image/png": "[encoded data removed]",
      "text/plain": [
       "<Figure size 1080x504 with 1 Axes>"
      ]
     },
     "metadata": {
      "needs_background": "light"
     },
     "output_type": "display_data"
    }
   ],
   "source": [
    "sale.groupby('Месяц начисления').agg({'Премия по полису' : 'sum'}).sort_values(\n",
    "    by='Премия по полису', ascending=False).plot(kind='bar', figsize=(15, 7))\n",
    "plt.xlabel('Месяц начисления')\n",
    "plt.ylabel('Суммарная премия по полису')\n",
    "plt.title('Распределение премий по полису в разрезе месяцев');\n",
    "plt.show()"
   ]
  },
  {
   "cell_type": "markdown",
   "id": "3e19fb09",
   "metadata": {},
   "source": [
    "Вывод: \n",
    "- Топ 3 месяца по колличеству продаж:  2021-01-01, 2021-02-01, 2022-03-01\n",
    "- Топ 3 месяца по суммме продаж: 2021-02-01, 2021-01-01,2022-03-01\t\n",
    "- Топ 3 месяца по среднему \"чеку\": 2021-02-01, 2022-01-01,2022-03-01\n",
    "Можем выделить явных лидеров по метрикам продаж: 2021-02-01, 2021-01-01,2022-03-01. Они лидеры по колличеству продаж и итоговой суммарной Премии по полисам"
   ]
  },
  {
   "cell_type": "markdown",
   "id": "126e1680",
   "metadata": {},
   "source": [
    "Построю таблицы распределия Премий по полисам для других зависимостей"
   ]
  },
  {
   "cell_type": "code",
   "execution_count": 16,
   "id": "5f995029",
   "metadata": {},
   "outputs": [
    {
     "data": {
      "image/png": "[encoded data removed]",
      "text/plain": [
       "<Figure size 1080x504 with 1 Axes>"
      ]
     },
     "metadata": {
      "needs_background": "light"
     },
     "output_type": "display_data"
    }
   ],
   "source": [
    "sale.groupby('Канал продаж').agg({'Премия по полису' : 'sum'}).sort_values(\n",
    "    by='Премия по полису', ascending=False).plot(kind='bar', figsize=(15, 7))\n",
    "plt.xlabel('Тип премии')\n",
    "plt.ylabel('Суммарная премия')\n",
    "plt.title('Распределение премий по полису в разрезе Каналов продаж');\n",
    "plt.show()"
   ]
  },
  {
   "cell_type": "code",
   "execution_count": 17,
   "id": "70346b03",
   "metadata": {},
   "outputs": [
    {
     "data": {
      "image/png": "[encoded data removed]",
      "text/plain": [
       "<Figure size 1080x504 with 1 Axes>"
      ]
     },
     "metadata": {
      "needs_background": "light"
     },
     "output_type": "display_data"
    }
   ],
   "source": [
    "sale.groupby('Продукт').agg({'Премия по полису' : 'sum'}).sort_values(\n",
    "    by='Премия по полису', ascending=False).plot(kind='bar', figsize=(15, 7))\n",
    "plt.xlabel('Тип Продукта')\n",
    "plt.ylabel('Суммарная премия')\n",
    "plt.title('Распределение премий по полису в разрезе продуктов');\n",
    "plt.show()"
   ]
  },
  {
   "cell_type": "code",
   "execution_count": 18,
   "id": "63365b63",
   "metadata": {},
   "outputs": [
    {
     "data": {
      "image/png": "[encoded data removed]",
      "text/plain": [
       "<Figure size 1080x504 with 1 Axes>"
      ]
     },
     "metadata": {
      "needs_background": "light"
     },
     "output_type": "display_data"
    }
   ],
   "source": [
    "sale.groupby('Тип премии').agg({'Премия по полису' : 'sum'}).sort_values(\n",
    "    by='Премия по полису', ascending=False).plot(kind='bar', figsize=(15, 7))\n",
    "plt.xlabel('Тип премии')\n",
    "plt.ylabel('Суммарная премия')\n",
    "plt.title('Распределение премий по полису в разрезе типов премий');\n",
    "plt.show()"
   ]
  },
  {
   "cell_type": "code",
   "execution_count": 19,
   "id": "406f7d82",
   "metadata": {},
   "outputs": [
    {
     "data": {
      "image/png": "[encoded data removed]",
      "text/plain": [
       "<Figure size 1080x504 with 1 Axes>"
      ]
     },
     "metadata": {
      "needs_background": "light"
     },
     "output_type": "display_data"
    }
   ],
   "source": [
    "sale.groupby('Агент').agg({'Премия по полису' : 'sum'}).sort_values(\n",
    "    by='Премия по полису', ascending=False).plot(kind='bar', figsize=(15, 7))\n",
    "plt.xlabel('Агент')\n",
    "plt.ylabel('Суммарная премия')\n",
    "plt.title('Распределение премий по полису в разрезе Агентов');\n",
    "plt.show()"
   ]
  },
  {
   "cell_type": "markdown",
   "id": "6d536606",
   "metadata": {},
   "source": [
    "Построю диаграмму продаж для Партнера 1"
   ]
  },
  {
   "cell_type": "code",
   "execution_count": 20,
   "id": "e913f4a7",
   "metadata": {},
   "outputs": [
    {
     "data": {
      "image/png": "[encoded data removed]",
      "text/plain": [
       "<Figure size 576x576 with 1 Axes>"
      ]
     },
     "metadata": {},
     "output_type": "display_data"
    }
   ],
   "source": [
    "\n",
    "partner_1_data = sale[sale['Агент'] == 'Партнер 1']\n",
    "\n",
    "sales_by_product_type = partner_1_data.groupby('Продукт')['Премия по полису'].sum()\n",
    "\n",
    "sales_by_product_type.plot(kind='pie', autopct='%1.1f%%', figsize=(8, 8))\n",
    "plt.title('Разделение по типам продуктов для Партнера 1')\n",
    "plt.ylabel('')\n",
    "plt.show()"
   ]
  },
  {
   "cell_type": "markdown",
   "id": "8aa7d9d8",
   "metadata": {},
   "source": [
    "Вывод: \n",
    "Проведя данный анализ видим, что ключевым продуктами являются Кредитное и Инвестиционное страхование, и как видно по графика основным каналом является Банковский(что весьма логично для актуальных продуктов)\n",
    "По партнерам видим явных лидеров, \"Партнер 1\" и Собственные агенты.\n",
    "#Личный комментарий, могу предположить, что партнер 1- Газпром банк)"
   ]
  },
  {
   "cell_type": "markdown",
   "id": "7558f1c0",
   "metadata": {},
   "source": [
    "Проведу анализ статусов договора"
   ]
  },
  {
   "cell_type": "code",
   "execution_count": 21,
   "id": "8eb234f8",
   "metadata": {},
   "outputs": [
    {
     "data": {
      "image/png": "[encoded data removed]",
      "text/plain": [
       "<Figure size 1080x504 with 1 Axes>"
      ]
     },
     "metadata": {
      "needs_background": "light"
     },
     "output_type": "display_data"
    }
   ],
   "source": [
    "sale.groupby('Статус договора').agg({'Канал продаж' : 'count'}).sort_values(\n",
    "    by='Статус договора', ascending=False).plot(kind='bar', figsize=(15, 7))\n",
    "plt.xlabel('Статус договора')\n",
    "plt.ylabel('Колличество договоров')\n",
    "plt.title('Распределение Статусов договора');\n",
    "plt.show()"
   ]
  },
  {
   "cell_type": "markdown",
   "id": "c24a3f89",
   "metadata": {},
   "source": [
    "Построю тепловую карту по категориям статуса договора и агентам"
   ]
  },
  {
   "cell_type": "code",
   "execution_count": 22,
   "id": "9fcf73af",
   "metadata": {},
   "outputs": [
    {
     "data": {
      "image/png": "[encoded data removed]",
      "text/plain": [
       "<Figure size 576x432 with 2 Axes>"
      ]
     },
     "metadata": {
      "needs_background": "light"
     },
     "output_type": "display_data"
    }
   ],
   "source": [
    "cross_tab = pd.crosstab(sale['Статус договора'], sale['Агент'])\n",
    "\n",
    "\n",
    "plt.figure(figsize=(8, 6))\n",
    "sns.heatmap(cross_tab, annot=True, cmap='YlGnBu', fmt='d')\n",
    "plt.title('Тепловая карта по категориям статуса договора и агентам')\n",
    "plt.xlabel('Агент')\n",
    "plt.ylabel('Статус договора')\n",
    "plt.show()"
   ]
  },
  {
   "cell_type": "markdown",
   "id": "e1f717e3",
   "metadata": {},
   "source": [
    "Видим большое колличество расторгнутых полисов, нужно понять причины и предложить решения проблемы"
   ]
  },
  {
   "cell_type": "markdown",
   "id": "13bbd6e7",
   "metadata": {},
   "source": [
    "Посмотрю процент расторгнутых контрактов: по срокам полисов, каналу продаж и агенту"
   ]
  },
  {
   "cell_type": "code",
   "execution_count": 24,
   "id": "3a45238e",
   "metadata": {},
   "outputs": [
    {
     "name": "stdout",
     "output_type": "stream",
     "text": [
      "Процент расторгнутых договоров по сроку полисов:\n",
      "от 3 до 5 лет     62.994225\n",
      "от 5 до 10 лет    42.782027\n",
      "3 года            27.183513\n",
      "до 3 лет          23.721747\n",
      "5 лет             21.879718\n",
      "10 лет и более     4.700855\n",
      "Name: Срок полиса, dtype: float64\n"
     ]
    }
   ],
   "source": [
    "canceled_contracts = sale[sale['Статус договора'] == 'Расторгнут']['Срок полиса'].value_counts()\n",
    "total=sale['Срок полиса'].value_counts()\n",
    "percentages=(canceled_contracts/total)*100\n",
    "sort_percentages=percentages.sort_values(ascending=False)\n",
    "print(\"Процент расторгнутых договоров по сроку полисов:\")\n",
    "print(sort_percentages)"
   ]
  },
  {
   "cell_type": "code",
   "execution_count": 25,
   "id": "2e92a7ef",
   "metadata": {},
   "outputs": [
    {
     "name": "stdout",
     "output_type": "stream",
     "text": [
      "Процент расторгнутых договоров по каждому каналу продаж:\n",
      "Брокерский        68.307949\n",
      "Агентская сеть    42.775510\n",
      "Банковский        21.152470\n",
      "Корпоративный      7.568066\n",
      "Name: Канал продаж, dtype: float64\n"
     ]
    }
   ],
   "source": [
    "canceled_contracts = sale[sale['Статус договора'] == 'Расторгнут']['Канал продаж'].value_counts()\n",
    "total=sale['Канал продаж'].value_counts()\n",
    "percentages=(canceled_contracts/total)*100\n",
    "sort_percentages=percentages.sort_values(ascending=False)\n",
    "print(\"Процент расторгнутых договоров по каждому каналу продаж:\")\n",
    "print(sort_percentages)"
   ]
  },
  {
   "cell_type": "code",
   "execution_count": 26,
   "id": "40a2ba05",
   "metadata": {},
   "outputs": [
    {
     "name": "stdout",
     "output_type": "stream",
     "text": [
      "Процент расторгнутых договоров по каждому Агенту:\n",
      "Партнер 13            82.022472\n",
      "Партнер 3             78.104850\n",
      "Партнер 12            72.967480\n",
      "Партнер 11            52.484472\n",
      "Собственные агенты    26.250812\n",
      "Партнер 1             24.245846\n",
      "Партнер 8             22.900763\n",
      "Партнер 6             22.360248\n",
      "Партнер 9             19.680851\n",
      "Партнер 2             16.990291\n",
      "Партнер 4             14.518674\n",
      "Партнер 7             11.111111\n",
      "Партнер 15            11.093248\n",
      "Партнер 14             8.288288\n",
      "Партнер 5              5.527638\n",
      "Партнер 10             1.363636\n",
      "Name: Агент, dtype: float64\n"
     ]
    }
   ],
   "source": [
    "canceled_contracts = sale[sale['Статус договора'] == 'Расторгнут']['Агент'].value_counts()\n",
    "total=sale['Агент'].value_counts()\n",
    "percentages=(canceled_contracts/total)*100\n",
    "sort_percentages=percentages.sort_values(ascending=False)\n",
    "print(\"Процент расторгнутых договоров по каждому Агенту:\")\n",
    "print(sort_percentages)"
   ]
  },
  {
   "cell_type": "markdown",
   "id": "99350793",
   "metadata": {},
   "source": [
    "Вывод:\n",
    "- Самые большие проценты расторгнутых договоров по сроку полисов: от 3 до 5 лет и от 5 до 10 лет. Смею предположить, что это продукты направления ИСН НСЖ.\n",
    "- Самый большой процент расторгнутых договоров по каждому каналу продаж: Брокерский и Агентская сеть\n",
    "- Самый большой процент расторгнутых договоров по агенту: Партнер 13 и Партнер 3\n",
    "\n",
    "Предлагаемые сценарии решения проблемы:\n",
    "- Провести ряд мероприятий(обучения, вебинары, конкурсы) для брокерского и агентского канала для прорабоки конверсии в пролонгацию актуальных договоров\n",
    "- Рассмотреть актуальность наличия в порфетел Партнера 13 и 3. Их прибыль минимальна, а колличество расторгнутых полисов достаточно высоко. Нужно оценить силы, которые тратятся на работу с этими каналами и на их основании согласовать план работы с этими партнерами\n",
    "- Проработать доп стимуляцию для пролонгации полисов от 3 до 5 лет и от 5 до 10, предложить клиентом бонусы, подарки, дополнительные привелегии"
   ]
  },
  {
   "cell_type": "markdown",
   "id": "bcdee28f",
   "metadata": {},
   "source": [
    "Проведу проверку нескольких гипотез"
   ]
  },
  {
   "cell_type": "markdown",
   "id": "3a9c266d",
   "metadata": {},
   "source": [
    "H_0: Есть статистически значимые различия между премиями по полисам для разных каналов продаж.\n",
    "H_1: Нет статистически значимых различий между премиями по полисам для разных каналов продаж. \n",
    "alpha = 0.05"
   ]
  },
  {
   "cell_type": "code",
   "execution_count": 29,
   "id": "7f0f7a0c",
   "metadata": {
    "scrolled": true
   },
   "outputs": [
    {
     "name": "stdout",
     "output_type": "stream",
     "text": [
      "Есть статистически значимые различия между премиями по полисам для разных каналов продаж (p-value = 7.935754650883787e-10).\n"
     ]
    }
   ],
   "source": [
    "channel_groups = [sale[sale['Канал продаж'] == channel]['Премия по полису'] for channel in sale['Канал продаж'].unique()]\n",
    "\n",
    "f_statistic, p_value = f_oneway(*channel_groups)\n",
    "\n",
    "\n",
    "if p_value < 0.05:\n",
    "    print(f\"Есть статистически значимые различия между премиями по полисам для разных каналов продаж (p-value = {p_value}).\")\n",
    "else:\n",
    "    print(f\"Нет статистически значимых различий между премиями по полисам для разных каналов продаж (p-value = {p_value}).\")"
   ]
  },
  {
   "cell_type": "markdown",
   "id": "d5261bf1",
   "metadata": {},
   "source": [
    "H_0: Есть статистически значимые различия между премиями по полисам для разных Агентов.\n",
    "H_1: Нет статистически значимых различий между премиями по полисам для разных Агентов. \n",
    "alpha = 0.05"
   ]
  },
  {
   "cell_type": "code",
   "execution_count": 30,
   "id": "5e1387d6",
   "metadata": {},
   "outputs": [
    {
     "name": "stdout",
     "output_type": "stream",
     "text": [
      "Есть статистически значимые различия между премиями по полисам для разных агентов (p-value = 3.435388394976136e-19).\n"
     ]
    }
   ],
   "source": [
    "channel_groups = [sale[sale['Агент'] == channel]['Премия по полису'] for channel in sale['Агент'].unique()]\n",
    "\n",
    "f_statistic, p_value = f_oneway(*channel_groups)\n",
    "\n",
    "\n",
    "if p_value < 0.05:\n",
    "    print(f\"Есть статистически значимые различия между премиями по полисам для разных агентов (p-value = {p_value}).\")\n",
    "else:\n",
    "    print(f\"Нет статистически значимых различий между премиями по полисам для разных агентов (p-value = {p_value}).\")"
   ]
  },
  {
   "cell_type": "markdown",
   "id": "d3433eff",
   "metadata": {},
   "source": [
    "H_0: нет статистически значимой разницы в выручке между типами бизнеса. \n",
    "H_1: существует статистически значимая разница в выручке между типами бизнеса.\n",
    "alpha = 0.05"
   ]
  },
  {
   "cell_type": "code",
   "execution_count": 31,
   "id": "05a4f920",
   "metadata": {},
   "outputs": [
    {
     "name": "stdout",
     "output_type": "stream",
     "text": [
      "F-статистика: 24.310734539889985\n",
      "p-value: 8.261902900866696e-07\n",
      "Отвергаем нулевую гипотезу: существует статистически значимая разница в выручке между типами бизнеса.\n"
     ]
    }
   ],
   "source": [
    "business_type_groups = sale.groupby('Тип бизнеса')['Премия по полису'].apply(list)\n",
    "f_statistic, p_value = f_oneway(*business_type_groups)\n",
    "\n",
    "\n",
    "print(\"F-статистика:\", f_statistic)\n",
    "print(\"p-value:\", p_value)\n",
    "\n",
    "alpha = 0.05  # Уровень значимости\n",
    "if p_value < alpha:\n",
    "    print(\"Отвергаем нулевую гипотезу: существует статистически значимая разница в выручке между типами бизнеса.\")\n",
    "else:\n",
    "    print(\"Не получилось отвергнуть нулевую гипотезу: нет статистически значимой разницы в выручке между типами бизнеса.\")"
   ]
  },
  {
   "cell_type": "markdown",
   "id": "0fc8b9c7",
   "metadata": {},
   "source": [
    "Вывод: \n",
    "На основании гипотез, можем сделать следующие выводы:\n",
    "Существует статистически значимая разница в выручке между типами бизнеса.\n",
    "Есть статистически значимые различия между премиями по полисам для разных каналов продаж.\n",
    "Есть статистически значимые различия между премиями по полисам для разных агентов."
   ]
  },
  {
   "cell_type": "markdown",
   "id": "3a94eb11",
   "metadata": {},
   "source": [
    "Вывод по проделанной работе:\n",
    "На первом этапе работы была проведена предобработка данных, удалены пустые ячейки(их процент был 0.4 от общего количества, это количество не влияет на финальный анализ данных), преведены колонки к актуальному типу данных для комфортного анализа.\n",
    "Также были проверены данные на наличие дубликатов. \n",
    "\n",
    "Далее - анализ данных.\n",
    "\n",
    "Проведена оценка колличества продаж, суммы продаж и среднего значения премии за актуальные периоды\n",
    "Построен график распределия продаж по полисам в разрезе месяца и на основании этого сделаны следующие выводы:\n",
    "- Топ 3 месяца по колличеству продаж:  2021-01-01, 2021-02-01, 2022-03-01\n",
    "- Топ 3 месяца по суммме продаж: 2021-02-01, 2021-01-01,2022-03-01\t\n",
    "- Топ 3 месяца по среднему \"чеку\": 2021-02-01, 2022-01-01,2022-03-01\n",
    "\n",
    "Проведен комплексный анализ зависимостей премий по полисам в зависимости от разных критериев:\n",
    "- Распределение премий по полису в разрезе Типов премий\n",
    "- Распределение премий по полису в разрезе Каналов продаж\n",
    "- Распределение премий по полису в разрезе Продуктов\n",
    "- Распределение премий по полису в разрезе Агентов\n",
    "- диаграмму продаж для Партнера 1 (как для канала с наибольшей суммарной премией)\n",
    "\n",
    "По результатам проведенного анализа можно увидеть, что ключевыми продуктами являются Кредитное и Инвестиционное страхование, и, как видно по графикам, основным каналом является Банковский(что весьма логично для актуальных продуктов)\n",
    "По партнерам можно увидеть явных лидеров, \"Партнер 1\" и Собственные агенты.\n",
    "\n",
    "\n",
    "Проведен анализ статусов договора\n",
    "Сделан вывод, что существует большое колиичество расторгнутых договоров, на основании чего решено проверить причины\n",
    "- Построена тепловая карта по категориям статуса договора и агентам\n",
    "- Построен процент расторгнутых контрактов: по срокам полисов, каналу продаж и агенту.\n",
    "На основании проделанной работы сформированы следующие выводы и предложены решения.\n",
    "Вывод:\n",
    "- Самые большие проценты расторгнутых договоров по сроку полисов: от 3 до 5 лет и от 5 до 10 лет. Смею предположить, что это продукты направления ИСН НСЖ.\n",
    "- Самый большой процент расторгнутых договоров по каждому каналу продаж: Брокерский и Агентская сеть\n",
    "- Самый большой процент расторгнутых договоров по агенту: Партнер 13 и Партнер 3\n",
    "\n",
    "Предлагаемые сценарии решения проблемы:\n",
    "- Провести ряд мероприятий(обучения, вебинары, конкурсы) для брокерского и агентского канала для прорабоки конверсии в пролонгацию актуальных договоров\n",
    "- Рассмотреть актуальность наличия в порфетел Партнера 13 и 3. Их прибыль минимальна, а колличество расторгнутых полисов достаточно высоко. Нужно оценить силы, которые тратятся на работу с этими каналами и на их основании согласовать план работы с этими партнерами\n",
    "- Проработать доп стимуляцию для пролонгации полисов от 3 до 5 лет и от 5 до 10, предложить клиентом бонусы, подарки, дополнительные привелегии\n",
    "\n",
    "Предложены и проведены несколько гипотез.\n",
    "На основании гипотез возможно сформулировать следующие выводы:\n",
    "Существует статистически значимая разница в выручке между типами бизнеса.\n",
    "Есть статистически значимые различия между премиями по полисам для разных каналов продаж.\n",
    "Есть статистически значимые различия между премиями по полисам для разных агентов."
   ]
  }
 ],
 "metadata": {
  "ExecuteTimeLog": [
   {
    "duration": 1218,
    "start_time": "2023-12-01T17:25:49.019Z"
   },
   {
    "duration": 3154,
    "start_time": "2023-12-01T17:27:12.918Z"
   },
   {
    "duration": 19,
    "start_time": "2023-12-01T17:27:25.383Z"
   },
   {
    "duration": 29,
    "start_time": "2023-12-01T17:30:05.040Z"
   },
   {
    "duration": 14,
    "start_time": "2023-12-01T17:30:32.529Z"
   },
   {
    "duration": 5,
    "start_time": "2023-12-01T17:31:00.110Z"
   },
   {
    "duration": 35,
    "start_time": "2023-12-01T17:31:06.959Z"
   },
   {
    "duration": 25,
    "start_time": "2023-12-01T17:31:57.035Z"
   },
   {
    "duration": 113,
    "start_time": "2023-12-01T17:34:58.297Z"
   },
   {
    "duration": 22,
    "start_time": "2023-12-01T17:35:05.387Z"
   },
   {
    "duration": 19,
    "start_time": "2023-12-01T17:37:10.813Z"
   },
   {
    "duration": 18,
    "start_time": "2023-12-01T17:37:46.096Z"
   },
   {
    "duration": 7,
    "start_time": "2023-12-01T17:38:52.206Z"
   },
   {
    "duration": 14,
    "start_time": "2023-12-01T17:40:26.204Z"
   },
   {
    "duration": 22,
    "start_time": "2023-12-01T17:40:27.082Z"
   },
   {
    "duration": 24,
    "start_time": "2023-12-01T17:40:42.871Z"
   },
   {
    "duration": 18,
    "start_time": "2023-12-01T17:40:57.127Z"
   },
   {
    "duration": 13,
    "start_time": "2023-12-01T17:41:56.704Z"
   },
   {
    "duration": 25,
    "start_time": "2023-12-01T17:41:57.630Z"
   },
   {
    "duration": 24,
    "start_time": "2023-12-01T17:41:58.663Z"
   },
   {
    "duration": 5,
    "start_time": "2023-12-01T17:50:49.570Z"
   },
   {
    "duration": 21,
    "start_time": "2023-12-01T17:51:47.551Z"
   },
   {
    "duration": 1195,
    "start_time": "2023-12-02T15:37:03.783Z"
   },
   {
    "duration": 2841,
    "start_time": "2023-12-02T15:37:04.980Z"
   },
   {
    "duration": 15,
    "start_time": "2023-12-02T15:37:07.823Z"
   },
   {
    "duration": 23,
    "start_time": "2023-12-02T15:37:07.839Z"
   },
   {
    "duration": 11,
    "start_time": "2023-12-02T15:37:07.863Z"
   },
   {
    "duration": 6,
    "start_time": "2023-12-02T15:37:07.876Z"
   },
   {
    "duration": 11,
    "start_time": "2023-12-02T15:37:13.038Z"
   },
   {
    "duration": 23,
    "start_time": "2023-12-02T15:37:13.502Z"
   },
   {
    "duration": 4,
    "start_time": "2023-12-02T15:37:14.456Z"
   },
   {
    "duration": 15,
    "start_time": "2023-12-02T15:37:15.055Z"
   },
   {
    "duration": 70,
    "start_time": "2023-12-02T15:41:01.564Z"
   },
   {
    "duration": 18,
    "start_time": "2023-12-02T15:41:10.427Z"
   },
   {
    "duration": 16,
    "start_time": "2023-12-02T15:41:10.986Z"
   },
   {
    "duration": 20,
    "start_time": "2023-12-02T15:57:08.156Z"
   },
   {
    "duration": 78,
    "start_time": "2023-12-02T15:57:10.744Z"
   },
   {
    "duration": 76,
    "start_time": "2023-12-02T15:57:16.423Z"
   },
   {
    "duration": 116,
    "start_time": "2023-12-02T15:57:32.337Z"
   },
   {
    "duration": 10221,
    "start_time": "2023-12-02T15:57:56.886Z"
   },
   {
    "duration": 134,
    "start_time": "2023-12-02T15:58:55.627Z"
   },
   {
    "duration": 126,
    "start_time": "2023-12-02T15:59:30.003Z"
   },
   {
    "duration": 131,
    "start_time": "2023-12-02T16:00:38.716Z"
   },
   {
    "duration": 8,
    "start_time": "2023-12-02T16:01:11.975Z"
   },
   {
    "duration": 203,
    "start_time": "2023-12-02T16:02:31.963Z"
   },
   {
    "duration": 213,
    "start_time": "2023-12-02T16:06:07.250Z"
   },
   {
    "duration": 72,
    "start_time": "2023-12-02T16:10:20.866Z"
   },
   {
    "duration": 122,
    "start_time": "2023-12-02T16:10:51.919Z"
   },
   {
    "duration": 100,
    "start_time": "2023-12-02T16:11:18.837Z"
   },
   {
    "duration": 75,
    "start_time": "2023-12-02T16:11:22.818Z"
   },
   {
    "duration": 69,
    "start_time": "2023-12-02T16:11:26.617Z"
   },
   {
    "duration": 14,
    "start_time": "2023-12-02T16:11:53.206Z"
   },
   {
    "duration": 8,
    "start_time": "2023-12-02T16:12:14.603Z"
   },
   {
    "duration": 186,
    "start_time": "2023-12-02T16:12:25.343Z"
   },
   {
    "duration": 112,
    "start_time": "2023-12-02T16:14:31.697Z"
   },
   {
    "duration": 8,
    "start_time": "2023-12-02T16:14:47.857Z"
   },
   {
    "duration": 12,
    "start_time": "2023-12-02T16:15:07.150Z"
   },
   {
    "duration": 5,
    "start_time": "2023-12-02T16:16:30.374Z"
   },
   {
    "duration": 5,
    "start_time": "2023-12-02T16:16:36.759Z"
   },
   {
    "duration": 6,
    "start_time": "2023-12-02T16:16:38.171Z"
   },
   {
    "duration": 3,
    "start_time": "2023-12-02T16:16:46.906Z"
   },
   {
    "duration": 8,
    "start_time": "2023-12-02T16:17:20.288Z"
   },
   {
    "duration": 11,
    "start_time": "2023-12-02T16:17:31.486Z"
   },
   {
    "duration": 11,
    "start_time": "2023-12-02T16:17:43.188Z"
   },
   {
    "duration": 10,
    "start_time": "2023-12-02T16:18:27.324Z"
   },
   {
    "duration": 82,
    "start_time": "2023-12-02T16:19:01.427Z"
   },
   {
    "duration": 1318,
    "start_time": "2023-12-02T16:19:14.899Z"
   },
   {
    "duration": 19,
    "start_time": "2023-12-02T16:19:24.437Z"
   },
   {
    "duration": 75,
    "start_time": "2023-12-02T16:19:52.725Z"
   },
   {
    "duration": 10,
    "start_time": "2023-12-02T16:24:06.814Z"
   },
   {
    "duration": 10,
    "start_time": "2023-12-02T16:26:53.101Z"
   },
   {
    "duration": 10,
    "start_time": "2023-12-02T16:27:13.814Z"
   },
   {
    "duration": 12,
    "start_time": "2023-12-02T16:27:33.049Z"
   },
   {
    "duration": 9,
    "start_time": "2023-12-02T16:27:39.707Z"
   },
   {
    "duration": 80,
    "start_time": "2023-12-02T16:28:07.298Z"
   },
   {
    "duration": 71,
    "start_time": "2023-12-02T16:28:11.320Z"
   },
   {
    "duration": 12,
    "start_time": "2023-12-02T16:30:09.884Z"
   },
   {
    "duration": 9,
    "start_time": "2023-12-02T16:30:18.481Z"
   },
   {
    "duration": 12,
    "start_time": "2023-12-02T16:31:12.113Z"
   },
   {
    "duration": 9,
    "start_time": "2023-12-02T16:31:18.764Z"
   },
   {
    "duration": 11,
    "start_time": "2023-12-02T16:39:32.295Z"
   },
   {
    "duration": 10,
    "start_time": "2023-12-02T16:39:43.326Z"
   },
   {
    "duration": 12,
    "start_time": "2023-12-02T16:41:23.888Z"
   },
   {
    "duration": 8,
    "start_time": "2023-12-02T16:41:28.918Z"
   },
   {
    "duration": 9,
    "start_time": "2023-12-02T16:41:34.776Z"
   },
   {
    "duration": 154,
    "start_time": "2023-12-02T16:43:53.746Z"
   },
   {
    "duration": 171,
    "start_time": "2023-12-02T16:44:35.512Z"
   },
   {
    "duration": 260,
    "start_time": "2023-12-02T16:45:18.124Z"
   },
   {
    "duration": 196,
    "start_time": "2023-12-02T16:46:44.176Z"
   },
   {
    "duration": 231,
    "start_time": "2023-12-02T16:47:35.946Z"
   },
   {
    "duration": 1421,
    "start_time": "2023-12-03T10:54:57.020Z"
   },
   {
    "duration": 3134,
    "start_time": "2023-12-03T10:54:58.444Z"
   },
   {
    "duration": 28,
    "start_time": "2023-12-03T10:55:01.579Z"
   },
   {
    "duration": 270,
    "start_time": "2023-12-03T10:55:01.608Z"
   },
   {
    "duration": 108,
    "start_time": "2023-12-03T10:55:01.880Z"
   },
   {
    "duration": 120,
    "start_time": "2023-12-03T10:55:01.989Z"
   },
   {
    "duration": 60,
    "start_time": "2023-12-03T10:55:02.110Z"
   },
   {
    "duration": 75,
    "start_time": "2023-12-03T10:55:02.172Z"
   },
   {
    "duration": 14,
    "start_time": "2023-12-03T10:55:02.249Z"
   },
   {
    "duration": 105,
    "start_time": "2023-12-03T10:55:02.265Z"
   },
   {
    "duration": 56,
    "start_time": "2023-12-03T10:55:02.371Z"
   },
   {
    "duration": 35,
    "start_time": "2023-12-03T10:55:02.429Z"
   },
   {
    "duration": 55,
    "start_time": "2023-12-03T10:55:02.466Z"
   },
   {
    "duration": 75,
    "start_time": "2023-12-03T10:55:02.524Z"
   },
   {
    "duration": 74,
    "start_time": "2023-12-03T10:55:02.600Z"
   },
   {
    "duration": 273,
    "start_time": "2023-12-03T10:55:02.676Z"
   },
   {
    "duration": 185,
    "start_time": "2023-12-03T10:55:02.950Z"
   },
   {
    "duration": 201,
    "start_time": "2023-12-03T10:55:03.137Z"
   },
   {
    "duration": 200,
    "start_time": "2023-12-03T10:55:03.339Z"
   },
   {
    "duration": 264,
    "start_time": "2023-12-03T10:55:03.540Z"
   },
   {
    "duration": 3,
    "start_time": "2023-12-03T11:22:40.693Z"
   },
   {
    "duration": 123,
    "start_time": "2023-12-03T11:23:09.336Z"
   },
   {
    "duration": 10,
    "start_time": "2023-12-03T11:26:50.747Z"
   },
   {
    "duration": 11,
    "start_time": "2023-12-03T11:27:13.231Z"
   },
   {
    "duration": 256,
    "start_time": "2023-12-03T11:28:27.076Z"
   },
   {
    "duration": 276,
    "start_time": "2023-12-03T11:37:46.878Z"
   },
   {
    "duration": 29,
    "start_time": "2023-12-03T11:39:35.651Z"
   },
   {
    "duration": 52,
    "start_time": "2023-12-03T11:43:07.211Z"
   },
   {
    "duration": 98,
    "start_time": "2023-12-03T11:43:31.551Z"
   },
   {
    "duration": 64,
    "start_time": "2023-12-03T11:43:48.837Z"
   },
   {
    "duration": 74,
    "start_time": "2023-12-03T11:44:57.166Z"
   },
   {
    "duration": 194,
    "start_time": "2023-12-03T11:45:29.728Z"
   },
   {
    "duration": 191,
    "start_time": "2023-12-03T11:45:57.179Z"
   },
   {
    "duration": 109,
    "start_time": "2023-12-03T11:46:17.453Z"
   },
   {
    "duration": 269,
    "start_time": "2023-12-03T11:46:20.759Z"
   },
   {
    "duration": 74,
    "start_time": "2023-12-03T11:47:00.095Z"
   },
   {
    "duration": 207,
    "start_time": "2023-12-03T11:47:07.812Z"
   },
   {
    "duration": 109,
    "start_time": "2023-12-03T11:50:01.444Z"
   },
   {
    "duration": 78,
    "start_time": "2023-12-03T11:50:07.961Z"
   },
   {
    "duration": 10,
    "start_time": "2023-12-03T11:50:13.694Z"
   },
   {
    "duration": 12,
    "start_time": "2023-12-03T11:50:25.071Z"
   },
   {
    "duration": 14,
    "start_time": "2023-12-03T11:50:28.906Z"
   },
   {
    "duration": 11,
    "start_time": "2023-12-03T12:30:27.680Z"
   },
   {
    "duration": 312,
    "start_time": "2023-12-03T12:33:08.921Z"
   },
   {
    "duration": 1313,
    "start_time": "2023-12-03T12:34:02.393Z"
   },
   {
    "duration": 9,
    "start_time": "2023-12-03T12:36:45.297Z"
   },
   {
    "duration": 9,
    "start_time": "2023-12-03T12:37:46.731Z"
   },
   {
    "duration": 1260,
    "start_time": "2023-12-03T12:43:42.460Z"
   },
   {
    "duration": 9,
    "start_time": "2023-12-03T12:43:48.476Z"
   },
   {
    "duration": 9,
    "start_time": "2023-12-03T12:56:36.392Z"
   },
   {
    "duration": 12,
    "start_time": "2023-12-03T12:58:49.052Z"
   },
   {
    "duration": 14,
    "start_time": "2023-12-03T12:59:57.137Z"
   },
   {
    "duration": 14,
    "start_time": "2023-12-03T13:02:46.039Z"
   },
   {
    "duration": 15,
    "start_time": "2023-12-03T13:02:56.548Z"
   },
   {
    "duration": 18,
    "start_time": "2023-12-03T13:04:05.340Z"
   },
   {
    "duration": 19,
    "start_time": "2023-12-03T13:04:08.059Z"
   },
   {
    "duration": 19,
    "start_time": "2023-12-03T13:04:09.909Z"
   },
   {
    "duration": 12,
    "start_time": "2023-12-03T13:05:57.288Z"
   },
   {
    "duration": 12,
    "start_time": "2023-12-03T13:06:20.177Z"
   },
   {
    "duration": 13,
    "start_time": "2023-12-03T13:06:38.771Z"
   },
   {
    "duration": 12,
    "start_time": "2023-12-03T13:06:50.734Z"
   },
   {
    "duration": 14,
    "start_time": "2023-12-03T13:07:02.568Z"
   },
   {
    "duration": 1265,
    "start_time": "2023-12-03T15:47:51.316Z"
   },
   {
    "duration": 3156,
    "start_time": "2023-12-03T15:47:52.583Z"
   },
   {
    "duration": 30,
    "start_time": "2023-12-03T15:47:55.742Z"
   },
   {
    "duration": 17,
    "start_time": "2023-12-03T15:47:55.774Z"
   },
   {
    "duration": 12,
    "start_time": "2023-12-03T15:47:55.792Z"
   },
   {
    "duration": 5,
    "start_time": "2023-12-03T15:47:55.805Z"
   },
   {
    "duration": 12,
    "start_time": "2023-12-03T15:47:55.812Z"
   },
   {
    "duration": 52,
    "start_time": "2023-12-03T15:47:55.825Z"
   },
   {
    "duration": 5,
    "start_time": "2023-12-03T15:47:55.879Z"
   },
   {
    "duration": 106,
    "start_time": "2023-12-03T15:47:55.886Z"
   },
   {
    "duration": 15,
    "start_time": "2023-12-03T15:47:55.993Z"
   },
   {
    "duration": 7,
    "start_time": "2023-12-03T15:47:56.010Z"
   },
   {
    "duration": 10,
    "start_time": "2023-12-03T15:47:56.020Z"
   },
   {
    "duration": 11,
    "start_time": "2023-12-03T15:47:56.031Z"
   },
   {
    "duration": 207,
    "start_time": "2023-12-03T15:47:56.064Z"
   },
   {
    "duration": 73,
    "start_time": "2023-12-03T15:47:56.273Z"
   },
   {
    "duration": 0,
    "start_time": "2023-12-03T15:47:56.347Z"
   },
   {
    "duration": 0,
    "start_time": "2023-12-03T15:47:56.348Z"
   },
   {
    "duration": 0,
    "start_time": "2023-12-03T15:47:56.349Z"
   },
   {
    "duration": 0,
    "start_time": "2023-12-03T15:47:56.351Z"
   },
   {
    "duration": 0,
    "start_time": "2023-12-03T15:47:56.352Z"
   },
   {
    "duration": 0,
    "start_time": "2023-12-03T15:47:56.353Z"
   },
   {
    "duration": 0,
    "start_time": "2023-12-03T15:47:56.354Z"
   },
   {
    "duration": 0,
    "start_time": "2023-12-03T15:47:56.356Z"
   },
   {
    "duration": 51,
    "start_time": "2023-12-03T15:51:25.649Z"
   },
   {
    "duration": 1140,
    "start_time": "2023-12-03T15:51:30.336Z"
   },
   {
    "duration": 2843,
    "start_time": "2023-12-03T15:51:31.478Z"
   },
   {
    "duration": 25,
    "start_time": "2023-12-03T15:51:34.341Z"
   },
   {
    "duration": 17,
    "start_time": "2023-12-03T15:51:35.409Z"
   },
   {
    "duration": 13,
    "start_time": "2023-12-03T15:51:35.569Z"
   },
   {
    "duration": 8,
    "start_time": "2023-12-03T15:51:35.897Z"
   },
   {
    "duration": 11,
    "start_time": "2023-12-03T15:51:36.217Z"
   },
   {
    "duration": 31,
    "start_time": "2023-12-03T15:51:36.394Z"
   },
   {
    "duration": 4,
    "start_time": "2023-12-03T15:51:37.001Z"
   },
   {
    "duration": 81,
    "start_time": "2023-12-03T15:51:37.324Z"
   },
   {
    "duration": 16,
    "start_time": "2023-12-03T15:51:37.476Z"
   },
   {
    "duration": 9,
    "start_time": "2023-12-03T15:51:38.095Z"
   },
   {
    "duration": 9,
    "start_time": "2023-12-03T15:51:38.244Z"
   },
   {
    "duration": 10,
    "start_time": "2023-12-03T15:51:38.419Z"
   },
   {
    "duration": 204,
    "start_time": "2023-12-03T15:51:38.711Z"
   },
   {
    "duration": 158,
    "start_time": "2023-12-03T15:51:39.191Z"
   },
   {
    "duration": 173,
    "start_time": "2023-12-03T15:51:39.353Z"
   },
   {
    "duration": 198,
    "start_time": "2023-12-03T15:51:39.528Z"
   },
   {
    "duration": 250,
    "start_time": "2023-12-03T15:51:39.728Z"
   },
   {
    "duration": 189,
    "start_time": "2023-12-03T15:51:40.144Z"
   },
   {
    "duration": 12,
    "start_time": "2023-12-03T15:51:40.470Z"
   },
   {
    "duration": 20,
    "start_time": "2023-12-03T15:51:40.634Z"
   },
   {
    "duration": 12,
    "start_time": "2023-12-03T15:51:40.802Z"
   },
   {
    "duration": 70,
    "start_time": "2023-12-03T15:52:57.094Z"
   },
   {
    "duration": 251,
    "start_time": "2023-12-03T15:53:29.229Z"
   },
   {
    "duration": 10,
    "start_time": "2023-12-03T15:57:18.679Z"
   },
   {
    "duration": 12,
    "start_time": "2023-12-03T15:57:27.592Z"
   },
   {
    "duration": 11,
    "start_time": "2023-12-03T15:58:01.433Z"
   },
   {
    "duration": 78,
    "start_time": "2023-12-03T15:58:50.448Z"
   },
   {
    "duration": 11,
    "start_time": "2023-12-03T15:59:00.521Z"
   },
   {
    "duration": 11,
    "start_time": "2023-12-03T16:00:54.259Z"
   },
   {
    "duration": 10,
    "start_time": "2023-12-03T16:01:37.609Z"
   },
   {
    "duration": 10,
    "start_time": "2023-12-03T16:01:58.755Z"
   },
   {
    "duration": 11,
    "start_time": "2023-12-03T16:02:05.354Z"
   },
   {
    "duration": 11,
    "start_time": "2023-12-03T16:03:47.147Z"
   },
   {
    "duration": 10,
    "start_time": "2023-12-03T16:03:56.313Z"
   },
   {
    "duration": 14,
    "start_time": "2023-12-03T16:04:29.909Z"
   },
   {
    "duration": 11,
    "start_time": "2023-12-03T16:04:42.645Z"
   },
   {
    "duration": 63,
    "start_time": "2023-12-03T16:07:07.323Z"
   },
   {
    "duration": 3,
    "start_time": "2023-12-03T16:07:17.763Z"
   },
   {
    "duration": 2944,
    "start_time": "2023-12-03T16:07:18.115Z"
   },
   {
    "duration": 14,
    "start_time": "2023-12-03T16:07:21.061Z"
   },
   {
    "duration": 17,
    "start_time": "2023-12-03T16:07:24.478Z"
   },
   {
    "duration": 12,
    "start_time": "2023-12-03T16:07:24.642Z"
   },
   {
    "duration": 6,
    "start_time": "2023-12-03T16:07:24.939Z"
   },
   {
    "duration": 9,
    "start_time": "2023-12-03T16:07:25.352Z"
   },
   {
    "duration": 23,
    "start_time": "2023-12-03T16:07:25.529Z"
   },
   {
    "duration": 6,
    "start_time": "2023-12-03T16:07:25.830Z"
   },
   {
    "duration": 24,
    "start_time": "2023-12-03T16:07:26.146Z"
   },
   {
    "duration": 18,
    "start_time": "2023-12-03T16:07:26.299Z"
   },
   {
    "duration": 10,
    "start_time": "2023-12-03T16:07:27.041Z"
   },
   {
    "duration": 11,
    "start_time": "2023-12-03T16:07:27.193Z"
   },
   {
    "duration": 10,
    "start_time": "2023-12-03T16:07:27.347Z"
   },
   {
    "duration": 184,
    "start_time": "2023-12-03T16:07:27.687Z"
   },
   {
    "duration": 167,
    "start_time": "2023-12-03T16:07:28.364Z"
   },
   {
    "duration": 187,
    "start_time": "2023-12-03T16:07:28.763Z"
   },
   {
    "duration": 183,
    "start_time": "2023-12-03T16:07:29.195Z"
   },
   {
    "duration": 232,
    "start_time": "2023-12-03T16:07:29.728Z"
   },
   {
    "duration": 10,
    "start_time": "2023-12-03T16:08:12.572Z"
   },
   {
    "duration": 61,
    "start_time": "2023-12-03T16:08:26.808Z"
   },
   {
    "duration": 126,
    "start_time": "2023-12-03T16:09:50.865Z"
   },
   {
    "duration": 9,
    "start_time": "2023-12-03T16:11:58.793Z"
   },
   {
    "duration": 106,
    "start_time": "2023-12-03T16:12:07.796Z"
   },
   {
    "duration": 145,
    "start_time": "2023-12-03T16:12:29.492Z"
   },
   {
    "duration": 11,
    "start_time": "2023-12-03T16:16:48.842Z"
   },
   {
    "duration": 11,
    "start_time": "2023-12-03T16:17:18.606Z"
   },
   {
    "duration": 80,
    "start_time": "2023-12-03T16:18:11.747Z"
   },
   {
    "duration": 16,
    "start_time": "2023-12-03T16:18:15.834Z"
   },
   {
    "duration": 12,
    "start_time": "2023-12-03T16:18:21.149Z"
   },
   {
    "duration": 11,
    "start_time": "2023-12-03T16:20:40.675Z"
   },
   {
    "duration": 11,
    "start_time": "2023-12-03T16:21:11.854Z"
   },
   {
    "duration": 10,
    "start_time": "2023-12-03T16:21:20.433Z"
   },
   {
    "duration": 10,
    "start_time": "2023-12-03T16:21:32.072Z"
   },
   {
    "duration": 148,
    "start_time": "2023-12-03T16:22:11.069Z"
   },
   {
    "duration": 95,
    "start_time": "2023-12-03T16:23:52.312Z"
   },
   {
    "duration": 286,
    "start_time": "2023-12-03T16:39:04.705Z"
   },
   {
    "duration": 231,
    "start_time": "2023-12-03T16:41:43.716Z"
   },
   {
    "duration": 231,
    "start_time": "2023-12-03T16:42:32.939Z"
   },
   {
    "duration": 26,
    "start_time": "2023-12-03T16:43:34.879Z"
   },
   {
    "duration": 4,
    "start_time": "2023-12-03T16:46:50.867Z"
   },
   {
    "duration": 10,
    "start_time": "2023-12-03T16:47:00.021Z"
   },
   {
    "duration": 127,
    "start_time": "2023-12-03T16:48:11.705Z"
   },
   {
    "duration": 11,
    "start_time": "2023-12-03T16:48:40.460Z"
   },
   {
    "duration": 11,
    "start_time": "2023-12-03T16:48:50.800Z"
   },
   {
    "duration": 125,
    "start_time": "2023-12-03T16:49:10.206Z"
   },
   {
    "duration": 73,
    "start_time": "2023-12-03T16:56:01.447Z"
   },
   {
    "duration": 11,
    "start_time": "2023-12-03T16:56:23.180Z"
   },
   {
    "duration": 11,
    "start_time": "2023-12-03T16:56:38.287Z"
   },
   {
    "duration": 325,
    "start_time": "2023-12-03T16:57:07.881Z"
   },
   {
    "duration": 72,
    "start_time": "2023-12-03T16:58:07.729Z"
   },
   {
    "duration": 258,
    "start_time": "2023-12-03T16:58:16.592Z"
   },
   {
    "duration": 11,
    "start_time": "2023-12-03T16:59:57.741Z"
   },
   {
    "duration": 336,
    "start_time": "2023-12-03T17:00:15.713Z"
   },
   {
    "duration": 14,
    "start_time": "2023-12-03T17:04:38.162Z"
   },
   {
    "duration": 13,
    "start_time": "2023-12-03T17:05:56.119Z"
   },
   {
    "duration": 82,
    "start_time": "2023-12-03T17:08:52.490Z"
   },
   {
    "duration": 76,
    "start_time": "2023-12-03T17:09:02.244Z"
   },
   {
    "duration": 12,
    "start_time": "2023-12-03T17:09:32.499Z"
   },
   {
    "duration": 3,
    "start_time": "2023-12-03T17:09:46.595Z"
   },
   {
    "duration": 12,
    "start_time": "2023-12-03T17:15:27.892Z"
   },
   {
    "duration": 9,
    "start_time": "2023-12-03T17:15:28.741Z"
   },
   {
    "duration": 1366,
    "start_time": "2023-12-03T17:15:39.380Z"
   },
   {
    "duration": 18,
    "start_time": "2023-12-03T17:15:56.214Z"
   },
   {
    "duration": 4,
    "start_time": "2023-12-03T17:16:15.028Z"
   },
   {
    "duration": 12,
    "start_time": "2023-12-03T17:16:18.724Z"
   },
   {
    "duration": 12,
    "start_time": "2023-12-03T17:16:28.291Z"
   },
   {
    "duration": 13,
    "start_time": "2023-12-03T17:17:27.589Z"
   },
   {
    "duration": 11,
    "start_time": "2023-12-03T17:17:37.597Z"
   },
   {
    "duration": 77,
    "start_time": "2023-12-03T17:31:26.978Z"
   },
   {
    "duration": 34,
    "start_time": "2023-12-03T17:31:40.790Z"
   },
   {
    "duration": 28,
    "start_time": "2023-12-03T17:32:16.359Z"
   },
   {
    "duration": 28,
    "start_time": "2023-12-03T17:32:37.257Z"
   },
   {
    "duration": 10,
    "start_time": "2023-12-03T17:42:28.026Z"
   },
   {
    "duration": 11,
    "start_time": "2023-12-03T17:42:38.283Z"
   },
   {
    "duration": 3,
    "start_time": "2023-12-03T17:42:50.531Z"
   },
   {
    "duration": 10,
    "start_time": "2023-12-03T17:42:55.222Z"
   },
   {
    "duration": 26,
    "start_time": "2023-12-03T17:43:11.387Z"
   },
   {
    "duration": 74,
    "start_time": "2023-12-03T17:43:48.770Z"
   },
   {
    "duration": 13,
    "start_time": "2023-12-03T17:44:35.550Z"
   },
   {
    "duration": 800,
    "start_time": "2023-12-03T17:46:55.590Z"
   },
   {
    "duration": 855,
    "start_time": "2023-12-03T17:47:30.275Z"
   },
   {
    "duration": 753,
    "start_time": "2023-12-03T17:48:32.347Z"
   },
   {
    "duration": 249,
    "start_time": "2023-12-03T17:50:28.827Z"
   },
   {
    "duration": 262,
    "start_time": "2023-12-03T17:54:18.554Z"
   },
   {
    "duration": 251,
    "start_time": "2023-12-03T17:54:30.148Z"
   },
   {
    "duration": 19,
    "start_time": "2023-12-03T17:55:06.391Z"
   },
   {
    "duration": 73,
    "start_time": "2023-12-03T17:58:03.331Z"
   },
   {
    "duration": 166,
    "start_time": "2023-12-03T17:58:17.232Z"
   },
   {
    "duration": 156,
    "start_time": "2023-12-03T18:00:24.935Z"
   },
   {
    "duration": 162,
    "start_time": "2023-12-03T18:01:38.366Z"
   },
   {
    "duration": 13,
    "start_time": "2023-12-03T18:12:59.908Z"
   },
   {
    "duration": 491,
    "start_time": "2023-12-03T18:19:44.928Z"
   },
   {
    "duration": 18,
    "start_time": "2023-12-03T18:27:59.166Z"
   },
   {
    "duration": 17,
    "start_time": "2023-12-03T18:29:32.999Z"
   },
   {
    "duration": 3,
    "start_time": "2023-12-03T18:30:34.130Z"
   },
   {
    "duration": 14,
    "start_time": "2023-12-03T18:30:41.821Z"
   },
   {
    "duration": 16,
    "start_time": "2023-12-03T18:30:49.734Z"
   },
   {
    "duration": 36,
    "start_time": "2023-12-03T18:31:45.408Z"
   },
   {
    "duration": 60,
    "start_time": "2023-12-03T18:32:07.924Z"
   },
   {
    "duration": 81,
    "start_time": "2023-12-03T18:34:41.045Z"
   },
   {
    "duration": 75,
    "start_time": "2023-12-03T18:39:19.538Z"
   },
   {
    "duration": 1168,
    "start_time": "2023-12-03T19:31:43.597Z"
   },
   {
    "duration": 3104,
    "start_time": "2023-12-03T19:31:44.767Z"
   },
   {
    "duration": 19,
    "start_time": "2023-12-03T19:31:47.873Z"
   },
   {
    "duration": 19,
    "start_time": "2023-12-03T19:31:47.894Z"
   },
   {
    "duration": 12,
    "start_time": "2023-12-03T19:31:47.917Z"
   },
   {
    "duration": 39,
    "start_time": "2023-12-03T19:31:47.931Z"
   },
   {
    "duration": 17,
    "start_time": "2023-12-03T19:31:47.971Z"
   },
   {
    "duration": 22,
    "start_time": "2023-12-03T19:31:47.990Z"
   },
   {
    "duration": 5,
    "start_time": "2023-12-03T19:31:48.013Z"
   },
   {
    "duration": 99,
    "start_time": "2023-12-03T19:31:48.019Z"
   },
   {
    "duration": 15,
    "start_time": "2023-12-03T19:31:48.120Z"
   },
   {
    "duration": 9,
    "start_time": "2023-12-03T19:31:48.137Z"
   },
   {
    "duration": 26,
    "start_time": "2023-12-03T19:31:48.147Z"
   },
   {
    "duration": 9,
    "start_time": "2023-12-03T19:31:48.176Z"
   },
   {
    "duration": 243,
    "start_time": "2023-12-03T19:31:48.186Z"
   },
   {
    "duration": 203,
    "start_time": "2023-12-03T19:31:48.431Z"
   },
   {
    "duration": 199,
    "start_time": "2023-12-03T19:31:48.636Z"
   },
   {
    "duration": 180,
    "start_time": "2023-12-03T19:31:48.837Z"
   },
   {
    "duration": 257,
    "start_time": "2023-12-03T19:31:49.019Z"
   },
   {
    "duration": 144,
    "start_time": "2023-12-03T19:31:49.278Z"
   },
   {
    "duration": 196,
    "start_time": "2023-12-03T19:31:49.424Z"
   },
   {
    "duration": 791,
    "start_time": "2023-12-03T19:31:49.622Z"
   },
   {
    "duration": 81,
    "start_time": "2023-12-03T19:31:50.415Z"
   },
   {
    "duration": 0,
    "start_time": "2023-12-03T19:31:50.498Z"
   },
   {
    "duration": 0,
    "start_time": "2023-12-03T19:31:50.500Z"
   },
   {
    "duration": 0,
    "start_time": "2023-12-03T19:31:50.502Z"
   },
   {
    "duration": 0,
    "start_time": "2023-12-03T19:31:50.504Z"
   },
   {
    "duration": 0,
    "start_time": "2023-12-03T19:31:50.505Z"
   },
   {
    "duration": 0,
    "start_time": "2023-12-03T19:31:50.506Z"
   },
   {
    "duration": 0,
    "start_time": "2023-12-03T19:31:50.508Z"
   },
   {
    "duration": 14,
    "start_time": "2023-12-03T19:37:24.516Z"
   },
   {
    "duration": 12,
    "start_time": "2023-12-03T19:37:24.770Z"
   },
   {
    "duration": 13,
    "start_time": "2023-12-03T19:37:25.032Z"
   },
   {
    "duration": 146,
    "start_time": "2023-12-03T19:37:25.340Z"
   },
   {
    "duration": 16,
    "start_time": "2023-12-03T19:37:25.774Z"
   },
   {
    "duration": 16,
    "start_time": "2023-12-03T19:37:31.017Z"
   },
   {
    "duration": 126,
    "start_time": "2023-12-03T19:37:31.503Z"
   },
   {
    "duration": 10,
    "start_time": "2023-12-03T19:37:31.880Z"
   }
  ],
  "kernelspec": {
   "display_name": "Python 3 (ipykernel)",
   "language": "python",
   "name": "python3"
  },
  "language_info": {
   "codemirror_mode": {
    "name": "ipython",
    "version": 3
   },
   "file_extension": ".py",
   "mimetype": "text/x-python",
   "name": "python",
   "nbconvert_exporter": "python",
   "pygments_lexer": "ipython3",
   "version": "3.9.5"
  },
  "toc": {
   "base_numbering": 1,
   "nav_menu": {},
   "number_sections": true,
   "sideBar": true,
   "skip_h1_title": true,
   "title_cell": "Table of Contents",
   "title_sidebar": "Contents",
   "toc_cell": false,
   "toc_position": {},
   "toc_section_display": true,
   "toc_window_display": false
  }
 },
 "nbformat": 4,
 "nbformat_minor": 5
}
